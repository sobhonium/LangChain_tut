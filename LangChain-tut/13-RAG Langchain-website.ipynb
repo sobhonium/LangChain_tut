{
 "cells": [
  {
   "cell_type": "code",
   "execution_count": null,
   "id": "a16b45da-b741-4129-ba6e-ecd5cf845036",
   "metadata": {},
   "outputs": [],
   "source": [
    "# April 2025\n",
    "# RAG with Langchain\n",
    "# Website contents loading and question aswering on them\n",
    "# "
   ]
  },
  {
   "cell_type": "code",
   "execution_count": null,
   "id": "01b94b6d-7c1f-461b-94e5-393ca6dfc940",
   "metadata": {
    "tags": []
   },
   "outputs": [],
   "source": [
    "from dotenv import load_dotenv\n",
    "import os\n",
    "\n",
    "# 1st method: using .env file.\n",
    "load_dotenv()\n",
    "# Access them using os.getenv or os.environ\n",
    "api_key = os.getenv(\"GROQ_API_KEY\")\n",
    "\n",
    "# 2nd method: using hard code\n",
    "# api_key = \"<put the api key here>\"\n",
    "# if not os.environ.get(\"GROQ_API_KEY\"):\n",
    "#     os.environ[\"GROQ_API_KEY\"] = api_key #getpass.getpass(\"Enter API key for Groq: \")\n",
    "\n",
    "\n",
    "\n",
    "\n",
    "from langchain_groq import ChatGroq\n",
    "\n",
    "llm = ChatGroq(model=\"llama3-8b-8192\")"
   ]
  },
  {
   "cell_type": "code",
   "execution_count": null,
   "id": "be2199d9-32d4-4ed0-b9b8-5c241e4c11be",
   "metadata": {},
   "outputs": [],
   "source": []
  },
  {
   "cell_type": "code",
   "execution_count": null,
   "id": "044ade83-a6f6-4de6-b21c-1c2579debdae",
   "metadata": {
    "tags": []
   },
   "outputs": [],
   "source": [
    "# # If you want to use the depths of website, uncomment this. It takes too much time to read them\n",
    "# import requests\n",
    "# from bs4 import BeautifulSoup\n",
    "# from urllib.parse import urljoin, urlparse\n",
    "# import time\n",
    "\n",
    "# def crawl_links(base_url, max_depth=2):\n",
    "#     visited = set()\n",
    "#     to_visit = [(base_url, 0)]\n",
    "#     internal_links = []\n",
    "\n",
    "#     while to_visit:\n",
    "#         current_url, depth = to_visit.pop(0)\n",
    "\n",
    "#         if current_url in visited or depth > max_depth:\n",
    "#             continue\n",
    "\n",
    "#         try:\n",
    "#             response = requests.get(current_url, timeout=10)\n",
    "#             visited.add(current_url)\n",
    "#         except Exception as e:\n",
    "#             print(f\"Failed to fetch {current_url}: {e}\")\n",
    "#             continue\n",
    "\n",
    "#         if \"text/html\" not in response.headers.get(\"Content-Type\", \"\"):\n",
    "#             continue\n",
    "\n",
    "#         soup = BeautifulSoup(response.text, \"html.parser\")\n",
    "\n",
    "#         for link in soup.find_all(\"a\", href=True):\n",
    "#             href = link[\"href\"]\n",
    "#             full_url = urljoin(current_url, href)\n",
    "\n",
    "#             # Normalize and filter to domain\n",
    "#             if full_url.startswith(base_url):\n",
    "#                 parsed_url = urlparse(full_url)._replace(fragment=\"\").geturl()\n",
    "\n",
    "#                 if parsed_url not in visited and parsed_url not in [u for u, _ in to_visit]:\n",
    "#                     to_visit.append((parsed_url, depth + 1))\n",
    "#                     internal_links.append(parsed_url)\n",
    "#                     # print(parsed_url)\n",
    "\n",
    "#         # time.sleep(1)  # Be kind to the server!\n",
    "\n",
    "#     return list(set(internal_links))\n",
    "\n",
    "\n",
    "# # Example usage:\n",
    "# main_url = \"https://www.dunedinnz.com\"\n",
    "# otago_links = crawl_links(main_url, max_depth=1)\n",
    "\n",
    "# print(f\"Found {len(otago_links)} internal links:\")\n",
    "# for link in otago_links:\n",
    "#     print(link)"
   ]
  },
  {
   "cell_type": "code",
   "execution_count": null,
   "id": "3daff7bd-f352-4bbc-a87e-0a7cf06f638d",
   "metadata": {},
   "outputs": [],
   "source": []
  },
  {
   "cell_type": "code",
   "execution_count": null,
   "id": "be8b7070-6f2f-4b9e-9342-ef1b09221f49",
   "metadata": {},
   "outputs": [],
   "source": []
  },
  {
   "cell_type": "code",
   "execution_count": null,
   "id": "e53788d7-5105-407c-9435-e7d728171d39",
   "metadata": {
    "tags": []
   },
   "outputs": [],
   "source": [
    "from langchain.text_splitter import CharacterTextSplitter\n",
    "from langchain.vectorstores import FAISS\n",
    "from langchain.embeddings import HuggingFaceEmbeddings\n",
    "from langchain.chains import RetrievalQA\n",
    "# from langchain_community.chat_models import ChatGroq\n",
    "import os\n"
   ]
  },
  {
   "cell_type": "code",
   "execution_count": null,
   "id": "cc92cb76-76de-40d5-9d90-b2604d46dba5",
   "metadata": {},
   "outputs": [],
   "source": []
  },
  {
   "cell_type": "code",
   "execution_count": null,
   "id": "509435b5-5f01-4dbe-9ccd-2ae3c40c2a15",
   "metadata": {},
   "outputs": [],
   "source": []
  },
  {
   "cell_type": "code",
   "execution_count": null,
   "id": "5601b46a-aa60-4b69-93bd-1081f6d1edab",
   "metadata": {
    "tags": []
   },
   "outputs": [],
   "source": [
    "from langchain.document_loaders import WebBaseLoader\n",
    "\n",
    "urls = [\n",
    "    \"https://www.npr.org/2025/04/13/nx-s1-5363702/bernie-sanders-warns-of-extraordinary-danger-facing-u-s-under-trump-at-la-rally\",\n",
    "    \"https://www.otago.ac.nz/future-students/why-otago\",\n",
    "]\n",
    "\n",
    "# urls = otago_links[:10]\n",
    "\n",
    "\n",
    "loader = WebBaseLoader(urls)\n",
    "documents = loader.load()\n"
   ]
  },
  {
   "cell_type": "code",
   "execution_count": null,
   "id": "589780a4-044e-40cb-bdda-26f899bc171b",
   "metadata": {
    "tags": []
   },
   "outputs": [],
   "source": [
    "# documents"
   ]
  },
  {
   "cell_type": "code",
   "execution_count": null,
   "id": "5a97a730-58f7-4126-9d34-3b4ce0cf5520",
   "metadata": {
    "tags": []
   },
   "outputs": [],
   "source": [
    "# !pip -q install selenium"
   ]
  },
  {
   "cell_type": "code",
   "execution_count": null,
   "id": "4247bc32-be63-4a7d-a180-48cf965927a1",
   "metadata": {
    "tags": []
   },
   "outputs": [],
   "source": [
    "from langchain.document_loaders import SeleniumURLLoader\n",
    "\n",
    "loader = SeleniumURLLoader(urls=urls)\n",
    "documents = loader.load()"
   ]
  },
  {
   "cell_type": "code",
   "execution_count": null,
   "id": "6ff164ed-7fdb-490d-a8ab-bf5cb1818db3",
   "metadata": {},
   "outputs": [],
   "source": []
  },
  {
   "cell_type": "code",
   "execution_count": null,
   "id": "84043144-c277-451d-a79c-2fa205fc02ce",
   "metadata": {
    "tags": []
   },
   "outputs": [],
   "source": [
    "# documents"
   ]
  },
  {
   "cell_type": "code",
   "execution_count": null,
   "id": "7251282b-d615-47eb-a9d6-a25929bbad6a",
   "metadata": {},
   "outputs": [],
   "source": []
  },
  {
   "cell_type": "code",
   "execution_count": null,
   "id": "748b915b-7a16-4ebc-89d0-58fe81f16089",
   "metadata": {
    "tags": []
   },
   "outputs": [],
   "source": [
    "from langchain.text_splitter import RecursiveCharacterTextSplitter\n",
    "\n",
    "text_splitter = RecursiveCharacterTextSplitter(chunk_size=1000, chunk_overlap=100)\n",
    "docs = text_splitter.split_documents(documents)\n"
   ]
  },
  {
   "cell_type": "code",
   "execution_count": null,
   "id": "54dbeec9-2b64-4a31-bd48-531ba6d5091e",
   "metadata": {
    "tags": []
   },
   "outputs": [],
   "source": []
  },
  {
   "cell_type": "code",
   "execution_count": null,
   "id": "e3b78c20-a36d-4799-bf3c-cdf44f2401a3",
   "metadata": {
    "tags": []
   },
   "outputs": [],
   "source": [
    "from langchain.vectorstores import FAISS\n",
    "# from langchain.embeddings import OpenAIEmbeddings\n",
    "from langchain.embeddings import HuggingFaceEmbeddings\n",
    "\n",
    "embeddings = HuggingFaceEmbeddings(model_name=\"sentence-transformers/all-MiniLM-L6-v2\")\n",
    "vectorstore = FAISS.from_documents(docs, embeddings)\n"
   ]
  },
  {
   "cell_type": "code",
   "execution_count": null,
   "id": "1eab5b10-7f2e-4533-bbb0-53dc316265bc",
   "metadata": {},
   "outputs": [],
   "source": []
  },
  {
   "cell_type": "code",
   "execution_count": null,
   "id": "aad31a56-787b-44cb-9b3b-3728fddd42b0",
   "metadata": {
    "tags": []
   },
   "outputs": [],
   "source": [
    "from langchain.vectorstores import Chroma\n",
    "\n",
    "vectorstore = Chroma.from_documents(docs, embeddings)\n"
   ]
  },
  {
   "cell_type": "code",
   "execution_count": null,
   "id": "85c3739f-ae2e-4f70-aa9f-d9c657ce5f1d",
   "metadata": {
    "tags": []
   },
   "outputs": [],
   "source": [
    "vectorstore"
   ]
  },
  {
   "cell_type": "code",
   "execution_count": null,
   "id": "d0fd3206-cff4-4282-8214-4ed4fe51963a",
   "metadata": {},
   "outputs": [],
   "source": []
  },
  {
   "cell_type": "code",
   "execution_count": null,
   "id": "ea877689-9624-44ac-a1e0-42799c2e1893",
   "metadata": {
    "tags": []
   },
   "outputs": [],
   "source": [
    "retriever=vectorstore.as_retriever()"
   ]
  },
  {
   "cell_type": "code",
   "execution_count": null,
   "id": "7b99fe97-2e71-4964-a5cd-628b7e18ffcd",
   "metadata": {
    "tags": []
   },
   "outputs": [],
   "source": [
    "retriever.get_relevant_documents(\"how many courses are offered by Otago?\")"
   ]
  },
  {
   "cell_type": "code",
   "execution_count": null,
   "id": "3812a609-7c7d-45b1-8632-3bf03d4ff87a",
   "metadata": {},
   "outputs": [],
   "source": []
  },
  {
   "cell_type": "code",
   "execution_count": null,
   "id": "b80176d3-6779-4096-866d-af39d87abc03",
   "metadata": {
    "tags": []
   },
   "outputs": [],
   "source": [
    "from langchain.chains import RetrievalQA\n",
    "# from langchain.chat_models import ChatOpenAI\n",
    "\n",
    "\n",
    "qa_chain = RetrievalQA.from_chain_type(\n",
    "    llm=llm,\n",
    "    retriever=vectorstore.as_retriever()\n",
    ")\n"
   ]
  },
  {
   "cell_type": "code",
   "execution_count": null,
   "id": "9efa4827-5b75-471d-b86b-c7bd977b4c86",
   "metadata": {},
   "outputs": [],
   "source": []
  },
  {
   "cell_type": "code",
   "execution_count": null,
   "id": "92f5b385-18c3-4d3a-a7b7-9731ba63233d",
   "metadata": {
    "tags": []
   },
   "outputs": [],
   "source": [
    "query = \"How many students are studying at university of Otago?\"\n",
    "# query = \"places to visit in Dunedin?\"\n",
    "answer = qa_chain.run(query)\n",
    "print(answer)\n"
   ]
  },
  {
   "cell_type": "code",
   "execution_count": null,
   "id": "42380193-c0d2-40c6-82c9-31ecfb1617cb",
   "metadata": {},
   "outputs": [],
   "source": []
  },
  {
   "cell_type": "code",
   "execution_count": null,
   "id": "7deb0c4e-53cc-43a5-aa6c-43e68523dbfb",
   "metadata": {},
   "outputs": [],
   "source": []
  },
  {
   "cell_type": "code",
   "execution_count": null,
   "id": "deb3782d-ed79-46c5-bf8d-e5aee371614d",
   "metadata": {
    "tags": []
   },
   "outputs": [],
   "source": [
    "# how to make it a bit more strict and never answer things made up or hullucination based?\n",
    "# the answer is using a prompt and chain_type_kwargs argement"
   ]
  },
  {
   "cell_type": "code",
   "execution_count": null,
   "id": "8500c29f-a0f2-4c6b-9001-a1bced5a7143",
   "metadata": {
    "tags": []
   },
   "outputs": [],
   "source": [
    "from langchain.prompts import PromptTemplate\n",
    "\n",
    "promm =    \"\"\"Given the following question and context, find the response. If the answer is not in the context\n",
    "    don't make things up and say I don't know. \n",
    "    \n",
    "    CONTEXT : {context}\n",
    "    QUESTION :{question}\n",
    "    \"\"\"\n",
    "\n",
    "PROMPT = PromptTemplate(   \n",
    "        template=promm,\n",
    "        input_variables=[\"context\", \"question\"]\n",
    ")\n",
    "\n",
    "\n",
    "qa_chain = RetrievalQA.from_chain_type(\n",
    "    llm=llm,\n",
    "    retriever=vectorstore.as_retriever(),\n",
    "    chain_type_kwargs={\"prompt\":PROMPT}\n",
    ")"
   ]
  },
  {
   "cell_type": "code",
   "execution_count": null,
   "id": "2606eb2f-dd40-4cb1-8f0c-d668f47467be",
   "metadata": {},
   "outputs": [],
   "source": []
  },
  {
   "cell_type": "code",
   "execution_count": null,
   "id": "6ab14549-f1e4-4be8-a265-3edd5aa3c64c",
   "metadata": {},
   "outputs": [],
   "source": []
  },
  {
   "cell_type": "code",
   "execution_count": null,
   "id": "14c02165-c802-4b7a-ba3c-b129758a138c",
   "metadata": {
    "tags": []
   },
   "outputs": [],
   "source": [
    "query = \"How many teachers are teaching at university of Otago?\"\n",
    "# query = \"places to visit in Dunedin?\"\n",
    "answer = qa_chain.run(query)\n",
    "print(answer)\n"
   ]
  },
  {
   "cell_type": "code",
   "execution_count": null,
   "id": "56c304ae-52b3-4e65-ae66-ae8c44c59c2a",
   "metadata": {},
   "outputs": [],
   "source": []
  },
  {
   "cell_type": "code",
   "execution_count": null,
   "id": "61df4af9-51b4-469a-a02e-f8264a069361",
   "metadata": {},
   "outputs": [],
   "source": []
  },
  {
   "cell_type": "code",
   "execution_count": null,
   "id": "c68b8d76-e338-4f66-8e4b-6f19a0bb5d13",
   "metadata": {
    "tags": []
   },
   "outputs": [],
   "source": []
  },
  {
   "cell_type": "code",
   "execution_count": null,
   "id": "9fcf9d45-87d7-40ef-ac4a-75122368edb9",
   "metadata": {
    "tags": []
   },
   "outputs": [],
   "source": []
  },
  {
   "cell_type": "code",
   "execution_count": null,
   "id": "09b95e0e-d4c4-4214-88c3-3e0117f93a1c",
   "metadata": {},
   "outputs": [],
   "source": []
  }
 ],
 "metadata": {
  "kernelspec": {
   "display_name": "Python 3 (ipykernel)",
   "language": "python",
   "name": "python3"
  },
  "language_info": {
   "codemirror_mode": {
    "name": "ipython",
    "version": 3
   },
   "file_extension": ".py",
   "mimetype": "text/x-python",
   "name": "python",
   "nbconvert_exporter": "python",
   "pygments_lexer": "ipython3",
   "version": "3.10.14"
  }
 },
 "nbformat": 4,
 "nbformat_minor": 5
}
