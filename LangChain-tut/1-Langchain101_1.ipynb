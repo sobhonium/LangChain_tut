{
 "cells": [
  {
   "cell_type": "code",
   "execution_count": null,
   "id": "c0a1cdbf-0140-4e50-a267-1fd064bca04a",
   "metadata": {},
   "outputs": [],
   "source": []
  },
  {
   "cell_type": "code",
   "execution_count": null,
   "id": "1b74b596-fde2-46a1-a1f1-c9f18f611220",
   "metadata": {},
   "outputs": [],
   "source": []
  },
  {
   "cell_type": "raw",
   "id": "e8a79ab8-cf7b-4974-bd50-b01a151a66f5",
   "metadata": {},
   "source": [
    "What is the Runnable Interface?\n",
    "In LangChain, the Runnable interface is like a common set of instructions or behaviors that any component (like an LLM, tool, or chain) can follow. Think of it like a standard contract that says:\n",
    "\"If you implement me, you must support these kinds of operations.\"\n",
    "\n",
    "This interface is part of LangChain Expression Language (LCEL), which is a system for chaining and composing different components easily and predictably.\n",
    "\n",
    "When we say that LLMs implement the Runnable interface, we're saying that:\n",
    "\n",
    "You can interact with LLMs in a standardized way—sync, async, streamed, batched, etc.—because they follow this interface."
   ]
  },
  {
   "cell_type": "code",
   "execution_count": null,
   "id": "c0bb803c-9298-4580-ac56-b9d8588cdec7",
   "metadata": {},
   "outputs": [],
   "source": []
  }
 ],
 "metadata": {
  "kernelspec": {
   "display_name": "Python 3 (ipykernel)",
   "language": "python",
   "name": "python3"
  },
  "language_info": {
   "codemirror_mode": {
    "name": "ipython",
    "version": 3
   },
   "file_extension": ".py",
   "mimetype": "text/x-python",
   "name": "python",
   "nbconvert_exporter": "python",
   "pygments_lexer": "ipython3",
   "version": "3.10.14"
  }
 },
 "nbformat": 4,
 "nbformat_minor": 5
}
