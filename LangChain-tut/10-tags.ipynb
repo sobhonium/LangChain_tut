{
 "cells": [
  {
   "cell_type": "code",
   "execution_count": null,
   "id": "03026b76-6096-4e1b-a8e7-5a0f6cdb40a9",
   "metadata": {
    "tags": []
   },
   "outputs": [],
   "source": [
    "# April 2025\n",
    "# Tags"
   ]
  },
  {
   "cell_type": "code",
   "execution_count": null,
   "id": "fdf81aee-0a3c-4d29-bae5-fa4445233266",
   "metadata": {
    "tags": []
   },
   "outputs": [],
   "source": [
    "from langchain.prompts import ChatPromptTemplate\n",
    "from langchain.chains import create_tagging_chain, create_tagging_chain_pydantic"
   ]
  },
  {
   "cell_type": "code",
   "execution_count": null,
   "id": "3ab61203-60aa-4727-a8f7-85d3a76cc8f8",
   "metadata": {},
   "outputs": [],
   "source": []
  },
  {
   "cell_type": "code",
   "execution_count": null,
   "id": "0afb53d7-8b28-4de7-ac43-68b8aee99699",
   "metadata": {
    "tags": []
   },
   "outputs": [],
   "source": [
    "from dotenv import load_dotenv\n",
    "import os\n",
    "\n",
    "# 1st method: using .env file.\n",
    "load_dotenv()\n",
    "# Access them using os.getenv or os.environ\n",
    "api_key = os.getenv(\"GROQ_API_KEY\")\n",
    "\n",
    "# 2nd method: using hard code\n",
    "# api_key = \"<put the api key here>\"\n",
    "# if not os.environ.get(\"GROQ_API_KEY\"):\n",
    "#     os.environ[\"GROQ_API_KEY\"] = api_key #getpass.getpass(\"Enter API key for Groq: \")\n",
    "\n",
    "\n",
    "\n",
    "from langchain_groq import ChatGroq\n",
    "\n",
    "llm = ChatGroq(model=\"llama3-8b-8192\")"
   ]
  },
  {
   "cell_type": "code",
   "execution_count": null,
   "id": "88e21250-7913-40fc-8dc8-0fdb6d512f2f",
   "metadata": {
    "tags": []
   },
   "outputs": [],
   "source": []
  },
  {
   "cell_type": "code",
   "execution_count": null,
   "id": "6b34e85f-5041-47d3-bc1e-c322dd709a4a",
   "metadata": {},
   "outputs": [],
   "source": []
  },
  {
   "cell_type": "code",
   "execution_count": null,
   "id": "83cc99c9-9ebc-4873-907e-509715fa3250",
   "metadata": {
    "tags": []
   },
   "outputs": [],
   "source": [
    "schema = {\n",
    "    \"properties\": {\n",
    "        # Schema definitions here\n",
    "    },\n",
    "    \"required\": [\"language\", \"sentiment\", \"aggressiveness\", \"goal\", \"flow\", \"context\"],\n",
    "}\n",
    "\n",
    "chain = create_tagging_chain(schema, llm)"
   ]
  },
  {
   "cell_type": "code",
   "execution_count": null,
   "id": "8a2245e9-2aeb-4aa4-8803-8a54a9022817",
   "metadata": {},
   "outputs": [],
   "source": []
  },
  {
   "cell_type": "code",
   "execution_count": null,
   "id": "a65abb09-1f43-4c7a-a034-6429ad62909d",
   "metadata": {
    "tags": []
   },
   "outputs": [],
   "source": [
    "# inp = \"Estoy increiblemente contento de haberte conocido! Creo que seremos muy buenos amigos!\"\n",
    "# chain.run(inp)\n",
    "# {'sentiment': 'positive', 'language': 'Spanish'}\n",
    "\n",
    "inp = \"Estoy muy enojado con vos! Te voy a dar tu merecido!\"\n",
    "inp = \"\"\"\n",
    "Speaker A: Hey, how was your weekend?\n",
    "Speaker B: It was, like, really chill, you know? Just hung out with friends and stuff.\n",
    "Speaker A: That sounds awesome, man. I wish I had more free time to do that.\n",
    "Speaker B: Yeah, I know, right? But, um, I did get some work done, too. Needed to catch up on some projects.\n",
    "Speaker A: Yeah, I've been putting off some tasks, too. Guess we're both just trying to stay on top of things, huh?\n",
    "Speaker B: Exactly! But, hey, did you hear about the new coffee shop that just opened up downtown?\n",
    "Speaker A: Yeah, I saw that on social media. I've been meaning to check it out. Have you tried it?\n",
    "Speaker B: Yeah, I went there yesterday. The coffee is really good, and the vibe is super cozy.\n",
    "Speaker A: Nice! I'll have to go there this week. Thanks for the rec!\n",
    "Speaker B: No problem, happy to help!\n",
    "Speaker A: So, what do you think about the new traffic lights they installed on Main St?\n",
    "Speaker B: Honestly, I think they're a total nightmare. It's like, now there's just more traffic and congestion.\n",
    "Speaker A: Yeah, I agree. I was stuck in traffic for like, 20 minutes yesterday.\n",
    "Speaker B: Ugh, I know. And it's not like it's even made a big difference in traffic flow or anything.\n",
    "Speaker A: Yeah, it just feels like a band-aid solution or something.\n",
    "Speaker B: Exactly. Anyway, have you seen that new movie that just came out?\n",
    "Speaker A: Yeah, I saw it last night. It was really good! I loved the special effects.\n",
    "Speaker B: Yeah, I've been wanting to see it. Did you think it was worth the hype?\n",
    "Speaker A: Totally. I mean, the plot was a little confusing at times, but the visuals were amazing.\n",
    "Speaker B: Yeah, I've heard that. I might have to wait till it comes out on streaming or something.\n",
    "Speaker A: Yeah, that's probably a good idea. I don't know if I'd want to pay full price for it.\n",
    "Speaker B: No way. I mean, there are just so many other good movies out right now.\n",
    "Speaker A: For sure. But hey, have you tried that new restaurant that just opened up on the waterfront?\n",
    "Speaker B: Yeah, I went there for dinner last week. The food was really good, but the service was kind of slow.\n",
    "Speaker A: Yeah, I've heard that. I might have to try it out anyway. Thanks for the heads up!\n",
    "Speaker B: No problem, happy to help!\n",
    "\"\"\"\n",
    "chain.run(inp)"
   ]
  },
  {
   "cell_type": "code",
   "execution_count": null,
   "id": "12b35e8a-9d9f-44ef-8a9f-c53e74d00868",
   "metadata": {},
   "outputs": [],
   "source": []
  },
  {
   "cell_type": "code",
   "execution_count": null,
   "id": "bf53cde7-3969-41c6-8c8f-b08cc77f1fd4",
   "metadata": {},
   "outputs": [],
   "source": [
    "# Another way:"
   ]
  },
  {
   "cell_type": "code",
   "execution_count": null,
   "id": "b70085ac-2162-46c7-9ede-c5353555b5c3",
   "metadata": {
    "tags": []
   },
   "outputs": [],
   "source": [
    "from langchain.chains import create_tagging_chain\n",
    "\n",
    "schema = {\n",
    "    \"properties\": {\n",
    "        \"emotion\": {\n",
    "            \"type\": \"string\",\n",
    "            \"enum\": [\"angry\", \"sad\", \"happy\", \"neutral\"],\n",
    "            \"description\": \"The dominant emotion expressed in the text.\"\n",
    "        },\n",
    "        \"intent\": {\n",
    "            \"type\": \"string\",\n",
    "            \"description\": \"The underlying intent (e.g., request, complaint, compliment, threat).\"\n",
    "        },\n",
    "        \"clarity_level\": {\n",
    "            \"type\": \"string\",\n",
    "            \"enum\": [\"clear\", \"somewhat unclear\", \"very unclear\",  \"not clear\"],\n",
    "            \"description\": \"How easy it is to understand what the speaker is saying.\"\n",
    "        },\n",
    "        \"manipulative\": {\n",
    "            \"type\": \"boolean\",\n",
    "            \"description\": \"Whether the speaker is using emotionally or logically manipulative tactics.\"\n",
    "        },\n",
    "        \"level_of_politeness\": {\n",
    "            \"type\": \"string\",\n",
    "            \"enum\": [\"very polite\", \"polite\", \"neutral\", \"impolite\", \"very impolite\"]\n",
    "        }\n",
    "    },\n",
    "    \"required\": [\"emotion\", \"intent\", \"clarity_level\", \"manipulative\",  \"level_of_politeness\"]\n",
    "}\n",
    "\n",
    "tagging_chain = create_tagging_chain(schema, llm)\n",
    "\n",
    "input_text = \"I absolutely love the new iPhone!\"\n",
    "result = tagging_chain.run(input_text)\n",
    "print(result)\n"
   ]
  },
  {
   "cell_type": "code",
   "execution_count": null,
   "id": "5a972bdc-53da-40c6-86c1-5f801022b31b",
   "metadata": {},
   "outputs": [],
   "source": []
  },
  {
   "cell_type": "code",
   "execution_count": null,
   "id": "3a40e569-02ec-46eb-b85e-37ec96497a88",
   "metadata": {},
   "outputs": [],
   "source": []
  },
  {
   "cell_type": "code",
   "execution_count": null,
   "id": "dd7f17ef-fbd4-49e8-94b5-6269a30a024f",
   "metadata": {},
   "outputs": [],
   "source": []
  },
  {
   "cell_type": "raw",
   "id": "1288be93-0159-4710-949d-702058b874fc",
   "metadata": {
    "tags": []
   },
   "source": [
    "# More robust way:\n",
    "This is a typed version of create_tagging_chain that uses a Pydantic model instead of a raw JSON schema. This gives you better integration with Python tooling and IDEs:"
   ]
  },
  {
   "cell_type": "code",
   "execution_count": null,
   "id": "3561fcb4-6237-4701-825d-4fe80b91a8b4",
   "metadata": {
    "tags": []
   },
   "outputs": [],
   "source": [
    "from langchain.chains import create_tagging_chain_pydantic\n",
    "from pydantic import BaseModel, Field\n",
    "\n",
    "class TagOutput(BaseModel):\n",
    "    sentiment: str = Field(description=\"Sentiment of the text: positive, neutral, or negative\")\n",
    "    topic: str = Field(description=\"Main topic discussed\")\n",
    "\n",
    "tagging_chain = create_tagging_chain_pydantic(TagOutput, llm)\n",
    "\n",
    "result = tagging_chain.run(\"The economy is collapsing and it's terrifying.\")\n",
    "print(result)"
   ]
  },
  {
   "cell_type": "code",
   "execution_count": null,
   "id": "f9c7189c-9d03-48db-bbbb-12882339afd0",
   "metadata": {},
   "outputs": [],
   "source": []
  },
  {
   "cell_type": "code",
   "execution_count": null,
   "id": "2a27e0c8-7454-4fcd-ad52-b47deb29aae0",
   "metadata": {
    "tags": []
   },
   "outputs": [],
   "source": [
    "result.sentiment, result.topic"
   ]
  },
  {
   "cell_type": "code",
   "execution_count": null,
   "id": "0b3a7ee9-fcfd-4663-9c70-88377c9ab2c3",
   "metadata": {},
   "outputs": [],
   "source": []
  },
  {
   "cell_type": "code",
   "execution_count": null,
   "id": "58481e3e-2c75-4f7f-a206-ec5e4d0ae57f",
   "metadata": {
    "tags": []
   },
   "outputs": [],
   "source": [
    "# The following is an extention of the above code:"
   ]
  },
  {
   "cell_type": "raw",
   "id": "8e3c4bae-b712-4ff2-9e1a-ef28d7e8268e",
   "metadata": {},
   "source": [
    "class TagOutput(BaseModel):\n",
    "    emotion: str = Field(\n",
    "        description=\"The dominant emotion expressed in the text.\",\n",
    "        examples=[\"angry\", \"sad\", \"happy\", \"neutral\"]\n",
    "    )\n",
    "    intent: str = Field(\n",
    "        description=\"The underlying intent (e.g., request, complaint, compliment, threat).\"\n",
    "    )\n",
    "    clarity_level: str = Field(\n",
    "        description=\"How easy it is to understand what the speaker is saying.\",\n",
    "        examples=[\"clear\", \"somewhat unclear\", \"very unclear\", \"not clear\"]\n",
    "    )\n",
    "    manipulative: bool = Field(\n",
    "        description=\"Whether the speaker is using emotionally or logically manipulative tactics.\"\n",
    "    )\n",
    "    level_of_politeness: str = Field(\n",
    "        description=\"Level of politeness of the speaker.\",\n",
    "        examples=[\"very polite\", \"polite\", \"neutral\", \"impolite\", \"very impolite\"]\n",
    "    )"
   ]
  },
  {
   "cell_type": "code",
   "execution_count": null,
   "id": "ec978a53-9050-46ac-997a-177868d28066",
   "metadata": {
    "tags": []
   },
   "outputs": [],
   "source": [
    "# however, it's errorsome. and you need to change it to something like bellow:"
   ]
  },
  {
   "cell_type": "code",
   "execution_count": null,
   "id": "5f226761-e250-4ae9-b9fd-4d42f64f2dfe",
   "metadata": {},
   "outputs": [],
   "source": []
  },
  {
   "cell_type": "code",
   "execution_count": null,
   "id": "002d7345-8f9c-47d3-a6c2-3f8550dfcee3",
   "metadata": {},
   "outputs": [],
   "source": []
  },
  {
   "cell_type": "code",
   "execution_count": null,
   "id": "48e427ca-dc6c-4f89-8ea3-cac2779b572c",
   "metadata": {
    "tags": []
   },
   "outputs": [],
   "source": [
    "from langchain.chains import create_tagging_chain_pydantic\n",
    "from pydantic import BaseModel, Field\n",
    "from typing import Literal\n",
    "\n",
    "\n",
    "class TagOutput(BaseModel):\n",
    "    emotion: Literal[\"angry\", \"sad\", \"happy\", \"neutral\"] = Field(\n",
    "        description=\"The dominant emotion expressed in the text.\"\n",
    "    )\n",
    "    intent: str = Field(\n",
    "        description=\"The underlying intent (e.g., request, complaint, compliment, threat).\"\n",
    "    )\n",
    "    clarity_level: Literal[\"clear\", \"somewhat unclear\", \"very unclear\", \"not clear\"] = Field(\n",
    "        description=\"How easy it is to understand what the speaker is saying.\"\n",
    "    )\n",
    "    manipulative: Literal[\"true\", \"false\"] = Field(\n",
    "        description=\"Whether the speaker is using emotionally or logically manipulative tactics.\"\n",
    "    )\n",
    "    level_of_politeness: Literal[\"very polite\", \"polite\", \"neutral\", \"impolite\", \"very impolite\"] = Field(\n",
    "        description=\"Level of politeness of the speaker.\"\n",
    "    )\n",
    "\n",
    "tagging_chain = create_tagging_chain_pydantic(TagOutput, llm)\n",
    "\n",
    "result = tagging_chain.run(\"The economy is collapsing and it's terrifying.\")\n",
    "print(result)    "
   ]
  },
  {
   "cell_type": "code",
   "execution_count": null,
   "id": "b016a6f4-4238-4086-9b9e-76d2297705e8",
   "metadata": {
    "tags": []
   },
   "outputs": [],
   "source": [
    "# Don't forget to use Literal as it's important to return bools etc. \n",
    "#  the underlying model (Groq's Mixtral here) returned it as a string (\"false\") instead of a boolean false.\n",
    "# This type mismatch causes LangChain's validation to fail, resulting in a BadRequestError."
   ]
  },
  {
   "cell_type": "code",
   "execution_count": null,
   "id": "800835fd-3377-43c5-9d64-9b95c30d9742",
   "metadata": {},
   "outputs": [],
   "source": [
    "result.schema().keys()"
   ]
  },
  {
   "cell_type": "code",
   "execution_count": null,
   "id": "d8c53990-0fb2-446d-896d-bbe077233e29",
   "metadata": {},
   "outputs": [],
   "source": []
  },
  {
   "cell_type": "raw",
   "id": "5b349d09-3ac1-458f-8c20-5126887375ff",
   "metadata": {},
   "source": [
    "Another thing to notice is that if you put a high number of features to find, groq will not\n",
    "give you that. it's best if you break them into multiple request like bellow where 50 features\n",
    "are broken into two request in the next two cells"
   ]
  },
  {
   "cell_type": "code",
   "execution_count": null,
   "id": "d11cfdc2-163f-47c1-8925-43b4a9f1e84c",
   "metadata": {},
   "outputs": [],
   "source": []
  },
  {
   "cell_type": "code",
   "execution_count": null,
   "id": "3c000a42-9674-42c2-b9d4-867ed34571a4",
   "metadata": {
    "tags": []
   },
   "outputs": [],
   "source": [
    "from langchain.chains import create_tagging_chain_pydantic\n",
    "from pydantic import BaseModel, Field\n",
    "from typing import Literal\n",
    "\n",
    "\n",
    "from typing import Literal, Optional\n",
    "from pydantic import BaseModel, Field\n",
    "\n",
    "\n",
    "\n",
    "from pydantic import BaseModel\n",
    "from typing import Literal\n",
    "\n",
    "class TagOutput(BaseModel):\n",
    "    # 🌍 Basic Metadata\n",
    "    language: str\n",
    "    context: str\n",
    "\n",
    "    # 💬 Linguistic/Discourse\n",
    "    formality: Literal[\"very informal\", \"informal\", \"neutral\", \"formal\", \"very formal\"]\n",
    "    complexity: Literal[\"very simple\", \"simple\", \"moderate\", \"complex\", \"very complex\"]\n",
    "    coherence: Literal[\"incoherent\", \"somewhat coherent\", \"coherent\", \"very coherent\"]\n",
    "    verbosity: Literal[\"terse\", \"brief\", \"balanced\", \"verbose\", \"very verbose\"]\n",
    "    fluency: Literal[\"disfluent\", \"somewhat fluent\", \"fluent\", \"very fluent\"]\n",
    "    clarity: Literal[\"unclear\", \"somewhat clear\", \"clear\", \"very clear\"]\n",
    "    repetition: Literal[\"none\", \"low\", \"moderate\", \"high\", \"very high\"]\n",
    "    disfluency: Literal[\"none\", \"low\", \"moderate\", \"high\", \"very high\"]\n",
    "\n",
    "    # 😊 Emotional/Affective\n",
    "    sentiment: Literal[\"very negative\", \"negative\", \"neutral\", \"positive\", \"very positive\"]\n",
    "    politeness: Literal[\"very impolite\", \"impolite\", \"neutral\", \"polite\", \"very polite\"]\n",
    "    empathy: Literal[\"none\", \"low\", \"moderate\", \"high\", \"very high\"]\n",
    "    aggressiveness: Literal[\"none\", \"low\", \"moderate\", \"high\", \"very high\"]\n",
    "    sarcasm: Literal[\"none\", \"low\", \"moderate\", \"high\", \"very high\"]\n",
    "    humor: Literal[\"none\", \"low\", \"moderate\", \"high\", \"very high\"]\n",
    "    hostility: Literal[\"none\", \"low\", \"moderate\", \"high\", \"very high\"]\n",
    "    emotional_intensity: Literal[\"none\", \"low\", \"moderate\", \"high\", \"very high\"]\n",
    "\n",
    "\n",
    "\n",
    "tagging_chain = create_tagging_chain_pydantic(TagOutput, llm)\n",
    "\n",
    "result = tagging_chain.run(\"The economy is collapsing and it's terrifying.\")\n",
    "print(result)    "
   ]
  },
  {
   "cell_type": "code",
   "execution_count": null,
   "id": "af578fe4-dbff-4383-a4b2-5dcb9e6a9fed",
   "metadata": {},
   "outputs": [],
   "source": [
    "result"
   ]
  },
  {
   "cell_type": "code",
   "execution_count": null,
   "id": "7fffa2ed-9c07-4be2-9f76-07a3f60fa7af",
   "metadata": {},
   "outputs": [],
   "source": []
  },
  {
   "cell_type": "code",
   "execution_count": null,
   "id": "d42a937a-0498-45bc-b17b-6c5d4428cb7f",
   "metadata": {
    "tags": []
   },
   "outputs": [],
   "source": [
    " from langchain.chains import create_tagging_chain_pydantic\n",
    "from pydantic import BaseModel, Field\n",
    "from typing import Literal\n",
    "\n",
    "\n",
    "from typing import Literal, Optional\n",
    "from pydantic import BaseModel, Field\n",
    "\n",
    "\n",
    "class TagOutput(BaseModel):\n",
    "    # 🧠 Cognitive/Reasoning\n",
    "    confidence: Literal[\"none\", \"low\", \"moderate\", \"high\", \"very high\"]\n",
    "    certainty: Literal[\"very uncertain\", \"uncertain\", \"neutral\", \"certain\", \"very certain\"]\n",
    "    curiosity: Literal[\"none\", \"low\", \"moderate\", \"high\", \"very high\"]\n",
    "    confusion: Literal[\"none\", \"low\", \"moderate\", \"high\", \"very high\"]\n",
    "    deception: Literal[\"none\", \"low\", \"moderate\", \"high\", \"very high\"]\n",
    "    rationality: Literal[\"emotional\", \"mostly emotional\", \"balanced\", \"mostly logical\", \"logical\"]\n",
    "\n",
    "    # 🎯 Intent/Pragmatics\n",
    "    goal: str\n",
    "    intent_type: Literal[\"question\", \"inform\", \"persuade\", \"command\", \"express emotion\", \"other\"]\n",
    "    persuasiveness: Literal[\"none\", \"low\", \"moderate\", \"high\", \"very high\"]\n",
    "    manipulation: Literal[\"none\", \"low\", \"moderate\", \"high\", \"very high\"]\n",
    "    cooperation_level: Literal[\"none\", \"low\", \"moderate\", \"high\", \"very high\"]\n",
    "    topic_shift: Literal[\"none\", \"low\", \"moderate\", \"high\"]\n",
    "    reference_resolution: Literal[\"poor\", \"fair\", \"good\", \"very good\"]\n",
    "\n",
    "    # 🤝 Relational/Interactional\n",
    "    dominance: Literal[\"submissive\", \"balanced\", \"dominant\"]\n",
    "    supportiveness: Literal[\"none\", \"low\", \"moderate\", \"high\", \"very high\"]\n",
    "    interruption_frequency: Literal[\"none\", \"low\", \"moderate\", \"high\", \"very high\"]\n",
    "    turn_taking_balance: Literal[\"speaker-heavy\", \"balanced\", \"listener-heavy\"]\n",
    "    alignment: Literal[\"disagree\", \"neutral\", \"agree\"]\n",
    "    relationship_type: Literal[\"peer\", \"superior\", \"subordinate\", \"customer\", \"service provider\", \"other\"]\n",
    "\n",
    "    # 📈 Meta/Structural\n",
    "    flow: Literal[\"poor\", \"fair\", \"good\", \"very good\"]\n",
    "    engagement_level: Literal[\"none\", \"low\", \"moderate\", \"high\", \"very high\"]\n",
    "    topic_relevance: Literal[\"irrelevant\", \"somewhat relevant\", \"relevant\", \"very relevant\"]\n",
    "    new_information_ratio: Literal[\"none\", \"low\", \"moderate\", \"high\", \"very high\"]\n",
    "    self_disclosure_level: Literal[\"none\", \"low\", \"moderate\", \"high\", \"very high\"]\n",
    "    question_density: Literal[\"none\", \"low\", \"moderate\", \"high\", \"very high\"]\n",
    "    \n",
    "tagging_chain = create_tagging_chain_pydantic(TagOutput, llm)\n",
    "\n",
    "result = tagging_chain.run(\"The economy is collapsing and it's terrifying.\")\n",
    "print(result)        "
   ]
  },
  {
   "cell_type": "code",
   "execution_count": null,
   "id": "be405fea-2488-4452-b3b1-157af4d80a88",
   "metadata": {},
   "outputs": [],
   "source": []
  }
 ],
 "metadata": {
  "kernelspec": {
   "display_name": "Python 3 (ipykernel)",
   "language": "python",
   "name": "python3"
  },
  "language_info": {
   "codemirror_mode": {
    "name": "ipython",
    "version": 3
   },
   "file_extension": ".py",
   "mimetype": "text/x-python",
   "name": "python",
   "nbconvert_exporter": "python",
   "pygments_lexer": "ipython3",
   "version": "3.10.14"
  }
 },
 "nbformat": 4,
 "nbformat_minor": 5
}
