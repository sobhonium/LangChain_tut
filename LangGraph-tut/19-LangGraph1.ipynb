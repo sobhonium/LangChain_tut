{
 "cells": [
  {
   "cell_type": "code",
   "execution_count": 1,
   "id": "a661e349-e55c-4f35-8e24-9d95a3a0db9d",
   "metadata": {
    "tags": []
   },
   "outputs": [],
   "source": [
    "# June 2025\n",
    "# Build a basic chatbot using LangGraph"
   ]
  },
  {
   "cell_type": "code",
   "execution_count": null,
   "id": "9374fa5d-7735-43e1-87b2-b4819b4a8db5",
   "metadata": {},
   "outputs": [],
   "source": []
  },
  {
   "cell_type": "code",
   "execution_count": 2,
   "id": "639fd705-8b34-4fc5-9687-6ac0b38b0a56",
   "metadata": {},
   "outputs": [],
   "source": [
    "from dotenv import load_dotenv\n",
    "import os\n",
    "\n",
    "# 1st method: using .env file.\n",
    "load_dotenv()\n",
    "# Access them using os.getenv or os.environ\n",
    "api_key = os.getenv(\"GROQ_API_KEY\")\n",
    "\n",
    "# 2nd method: using hard code\n",
    "# api_key = \"<put the api key here>\"\n",
    "# if not os.environ.get(\"GROQ_API_KEY\"):\n",
    "#     os.environ[\"GROQ_API_KEY\"] = api_key #getpass.getpass(\"Enter API key for Groq: \")\n",
    "\n"
   ]
  },
  {
   "cell_type": "code",
   "execution_count": 3,
   "id": "c01e4f00-4310-4b29-b16a-5dbc710e05c4",
   "metadata": {
    "tags": []
   },
   "outputs": [],
   "source": [
    "\n",
    "\n",
    "\n",
    "from langchain_groq import ChatGroq\n",
    "\n",
    "llm = ChatGroq(model=\"llama3-8b-8192\")"
   ]
  },
  {
   "cell_type": "code",
   "execution_count": null,
   "id": "f68f7622-ddcf-405a-8a8e-6f59c8cbd6ed",
   "metadata": {},
   "outputs": [],
   "source": []
  },
  {
   "cell_type": "code",
   "execution_count": null,
   "id": "4f0e7c9e-5685-49e4-83d2-a8f9c0bc0381",
   "metadata": {},
   "outputs": [],
   "source": []
  },
  {
   "cell_type": "code",
   "execution_count": 4,
   "id": "a7bf8b39-2e6b-4cfa-9b87-4a76ad7c2832",
   "metadata": {
    "tags": []
   },
   "outputs": [],
   "source": [
    "from typing import Annotated, Literal, List\n",
    "from langgraph.graph import StateGraph, START, END"
   ]
  },
  {
   "cell_type": "code",
   "execution_count": 5,
   "id": "b35a1c81-f931-4f38-a65f-e6e235c5c466",
   "metadata": {
    "tags": []
   },
   "outputs": [],
   "source": [
    "from langgraph.graph.message import add_messages\n",
    "from langchain.chat_models import init_chat_model\n",
    "from pydantic import BaseModel, Field"
   ]
  },
  {
   "cell_type": "code",
   "execution_count": 6,
   "id": "998cca4d-e014-4938-83b8-19b5b945431a",
   "metadata": {
    "tags": []
   },
   "outputs": [],
   "source": [
    "from typing_extensions import TypedDict"
   ]
  },
  {
   "cell_type": "code",
   "execution_count": null,
   "id": "a4d03bbc-abe1-4932-9b02-34659a23e178",
   "metadata": {},
   "outputs": [],
   "source": []
  },
  {
   "cell_type": "raw",
   "id": "7d792582-ceef-4c75-ac3d-3cc6fc1612dc",
   "metadata": {},
   "source": [
    "A StateGraph object defines the structure of our chatbot as a \"state machine\". We'll add nodes to represent the llm and functions our chatbot can call and edges to specify how the bot should transition between these functions."
   ]
  },
  {
   "cell_type": "code",
   "execution_count": null,
   "id": "d78e4a17-2991-498d-bdc9-edfd6beba682",
   "metadata": {},
   "outputs": [],
   "source": []
  },
  {
   "cell_type": "code",
   "execution_count": null,
   "id": "d5856da5-45dc-4f5a-b771-f55e4c97e1cd",
   "metadata": {},
   "outputs": [],
   "source": []
  },
  {
   "cell_type": "code",
   "execution_count": 7,
   "id": "9404cc8a-2809-4115-b8f9-ee4c4a5a30de",
   "metadata": {
    "tags": []
   },
   "outputs": [],
   "source": [
    "class State(TypedDict):\n",
    "    # Messages have the type \"list\". The `add_messages` function\n",
    "    # in the annotation defines how this state key should be updated\n",
    "    # (in this case, it appends messages to the list, rather than overwriting them)\n",
    "    messages: Annotated[list, add_messages]\n",
    "\n",
    "    \n",
    "graph_builder = StateGraph(State)    "
   ]
  },
  {
   "cell_type": "code",
   "execution_count": null,
   "id": "22544f48-428c-4d7f-9334-cbc4c78953f4",
   "metadata": {},
   "outputs": [],
   "source": []
  },
  {
   "cell_type": "code",
   "execution_count": 8,
   "id": "7236ab91-c978-4f95-8b0c-570e79827d2f",
   "metadata": {
    "tags": []
   },
   "outputs": [],
   "source": [
    "def chatbot(state:State):\n",
    "    return {\"messages\":[llm.invoke(state[\"messages\"])]}"
   ]
  },
  {
   "cell_type": "code",
   "execution_count": null,
   "id": "a6215ac0-9aa2-4ae3-ae48-3883fd8a2365",
   "metadata": {},
   "outputs": [],
   "source": []
  },
  {
   "cell_type": "code",
   "execution_count": 9,
   "id": "c131bbac-dedf-48a7-b533-1aa6a58256e0",
   "metadata": {
    "tags": []
   },
   "outputs": [
    {
     "data": {
      "text/plain": [
       "<langgraph.graph.state.StateGraph at 0x7fefede99b70>"
      ]
     },
     "execution_count": 9,
     "metadata": {},
     "output_type": "execute_result"
    }
   ],
   "source": [
    "# The first argument is the unique node name\n",
    "# The second argument is the function or object that will be called whenever\n",
    "# the node is used.\n",
    "graph_builder.add_node(\"chatbot\", chatbot)\n",
    "\n",
    "graph_builder.add_edge(START, end_key=\"chatbot\")\n",
    "graph_builder.add_edge(\"chatbot\", end_key=END)"
   ]
  },
  {
   "cell_type": "code",
   "execution_count": null,
   "id": "e7d17c3e-6e60-426a-a61c-167cf5acc25f",
   "metadata": {
    "tags": []
   },
   "outputs": [],
   "source": []
  },
  {
   "cell_type": "code",
   "execution_count": 10,
   "id": "b5dd77b8-78c0-4d42-950b-8b30ce5629a0",
   "metadata": {
    "tags": []
   },
   "outputs": [],
   "source": [
    "graph = graph_builder.compile()"
   ]
  },
  {
   "cell_type": "code",
   "execution_count": 11,
   "id": "a11605e9-ebf2-44c0-85c4-ec9c5aeb5f82",
   "metadata": {
    "tags": []
   },
   "outputs": [],
   "source": [
    "user_input = \"hi, how is it going today?\""
   ]
  },
  {
   "cell_type": "code",
   "execution_count": 12,
   "id": "4181acfd-2c31-4d54-923c-1e3fe783ca4e",
   "metadata": {
    "tags": []
   },
   "outputs": [],
   "source": [
    "state = graph.invoke({\n",
    "\"messages\":[{\"role\":\"user\", \"content\":user_input}]\n",
    "})"
   ]
  },
  {
   "cell_type": "code",
   "execution_count": 13,
   "id": "1d05aadd-0d2a-4914-9338-50e82ca7a1d6",
   "metadata": {
    "tags": []
   },
   "outputs": [
    {
     "data": {
      "text/plain": [
       "'Hi! I\\'m just an AI, I don\\'t have feelings or emotions like humans do, so I don\\'t have good or bad days. I\\'m always \"on\" and ready to help with any questions or tasks you may have! How about you, how\\'s your day going?'"
      ]
     },
     "execution_count": 13,
     "metadata": {},
     "output_type": "execute_result"
    }
   ],
   "source": [
    "state[\"messages\"][-1].content"
   ]
  },
  {
   "cell_type": "code",
   "execution_count": null,
   "id": "ffa2e921-d67b-491c-a015-380cb9ddd01b",
   "metadata": {},
   "outputs": [],
   "source": []
  },
  {
   "cell_type": "code",
   "execution_count": 14,
   "id": "4b205c7e-4acb-4f67-90bf-25d37e605daa",
   "metadata": {
    "tags": []
   },
   "outputs": [
    {
     "data": {
      "text/plain": [
       "{'messages': [HumanMessage(content='hi, how is it going today?', additional_kwargs={}, response_metadata={}, id='69f894e8-5587-4bf7-9909-541731463750'),\n",
       "  AIMessage(content='Hi! I\\'m just an AI, I don\\'t have feelings or emotions like humans do, so I don\\'t have good or bad days. I\\'m always \"on\" and ready to help with any questions or tasks you may have! How about you, how\\'s your day going?', additional_kwargs={}, response_metadata={'token_usage': {'completion_tokens': 59, 'prompt_tokens': 18, 'total_tokens': 77, 'completion_time': 0.102870416, 'prompt_time': 0.008739067, 'queue_time': 0.333900863, 'total_time': 0.111609483}, 'model_name': 'llama3-8b-8192', 'system_fingerprint': 'fp_24ec19897b', 'finish_reason': 'stop', 'logprobs': None}, id='run--f030cc09-e037-4178-bf2f-51505f22bacb-0', usage_metadata={'input_tokens': 18, 'output_tokens': 59, 'total_tokens': 77})]}"
      ]
     },
     "execution_count": 14,
     "metadata": {},
     "output_type": "execute_result"
    }
   ],
   "source": [
    "state"
   ]
  },
  {
   "cell_type": "code",
   "execution_count": null,
   "id": "45111cb4-0637-45f6-9621-4dab2ccc1acf",
   "metadata": {},
   "outputs": [],
   "source": []
  },
  {
   "cell_type": "code",
   "execution_count": null,
   "id": "1415b088-3b6f-4fc4-b3bd-43a7f69cec38",
   "metadata": {
    "tags": []
   },
   "outputs": [],
   "source": []
  },
  {
   "cell_type": "code",
   "execution_count": null,
   "id": "a18d302a-2df3-41b9-a8ee-bd5f4f5a5c14",
   "metadata": {},
   "outputs": [],
   "source": []
  },
  {
   "cell_type": "markdown",
   "id": "1453f9b1-cffa-4f0e-a75c-00c00bb460ae",
   "metadata": {},
   "source": [
    "## Visualize the graph"
   ]
  },
  {
   "cell_type": "code",
   "execution_count": null,
   "id": "2ea64ea8-3bbc-4162-b775-a84ac874ccf7",
   "metadata": {},
   "outputs": [],
   "source": []
  },
  {
   "cell_type": "code",
   "execution_count": 15,
   "id": "c9f790d3-e44c-44bf-be73-29320321ee14",
   "metadata": {
    "tags": []
   },
   "outputs": [
    {
     "data": {
      "image/png": "[encoded data removed]",
      "text/plain": [
       "<IPython.core.display.Image object>"
      ]
     },
     "metadata": {},
     "output_type": "display_data"
    }
   ],
   "source": [
    "from IPython.display import Image, display\n",
    "\n",
    "try:\n",
    "    display(Image(graph.get_graph().draw_mermaid_png()))\n",
    "except Exception:\n",
    "    # This requires some extra dependencies and is optional\n",
    "    pass"
   ]
  },
  {
   "cell_type": "code",
   "execution_count": null,
   "id": "1ede8bb9-f434-4a7c-b936-236024e01e77",
   "metadata": {},
   "outputs": [],
   "source": []
  },
  {
   "cell_type": "code",
   "execution_count": null,
   "id": "ec564bae-5f98-49d0-9f9f-9f3a12d6eedb",
   "metadata": {},
   "outputs": [],
   "source": []
  },
  {
   "cell_type": "markdown",
   "id": "bf96b5aa-5f83-44a6-8166-3ea9f95747bb",
   "metadata": {
    "tags": []
   },
   "source": [
    "## Run the chatbot"
   ]
  },
  {
   "cell_type": "code",
   "execution_count": null,
   "id": "bc9dab46-e759-4697-aa4e-ca1eaed64a81",
   "metadata": {},
   "outputs": [],
   "source": []
  },
  {
   "cell_type": "code",
   "execution_count": null,
   "id": "f1653b13-93d3-48b8-abb5-f42f08b4eb9a",
   "metadata": {
    "tags": []
   },
   "outputs": [],
   "source": [
    "def stream_graph_updates(user_input: str):\n",
    "    for event in graph.stream({\"messages\": [{\"role\": \"user\", \"content\": user_input}]}):\n",
    "        for value in event.values():\n",
    "            print(\"Assistant:\", value[\"messages\"][-1].content)\n",
    "\n",
    "\n",
    "while True:\n",
    "    try:\n",
    "        user_input = input(\"User: \")\n",
    "        if user_input.lower() in [\"quit\", \"exit\", \"q\"]:\n",
    "            print(\"Goodbye!\")\n",
    "            break\n",
    "        stream_graph_updates(user_input)\n",
    "    except:\n",
    "        # fallback if input() is not available\n",
    "        user_input = \"What do you know about LangGraph?\"\n",
    "        print(\"User: \" + user_input)\n",
    "        stream_graph_updates(user_input)\n",
    "        break"
   ]
  },
  {
   "cell_type": "code",
   "execution_count": null,
   "id": "d59126fa-c7fe-4503-9d84-c0c030379bb9",
   "metadata": {},
   "outputs": [],
   "source": [
    "# The one has no memory on it. In the next notebooks, I will start using \n",
    "# memories for keeping the chats in the states."
   ]
  },
  {
   "cell_type": "code",
   "execution_count": null,
   "id": "d64608e8-ad22-47dc-a1ba-f73343931315",
   "metadata": {},
   "outputs": [],
   "source": []
  },
  {
   "cell_type": "code",
   "execution_count": null,
   "id": "ccdbcca4-9a88-4983-aac1-e1232feace5f",
   "metadata": {},
   "outputs": [],
   "source": []
  },
  {
   "cell_type": "code",
   "execution_count": null,
   "id": "76ab98a3-002f-41f5-a40a-f22f5d52383b",
   "metadata": {
    "tags": []
   },
   "outputs": [],
   "source": [
    "State"
   ]
  },
  {
   "cell_type": "code",
   "execution_count": null,
   "id": "f052da47-91de-4267-b0b2-e973193fc825",
   "metadata": {},
   "outputs": [],
   "source": []
  },
  {
   "cell_type": "code",
   "execution_count": null,
   "id": "56c92443-31dd-4e1f-80d6-5cc715ded9a2",
   "metadata": {},
   "outputs": [],
   "source": []
  },
  {
   "cell_type": "code",
   "execution_count": null,
   "id": "89bb4a55-6a25-46db-83fc-4c059c020f1d",
   "metadata": {},
   "outputs": [],
   "source": []
  },
  {
   "cell_type": "code",
   "execution_count": null,
   "id": "9dfa6053-80fe-47a6-b2dc-c8b78039b58d",
   "metadata": {},
   "outputs": [],
   "source": []
  },
  {
   "cell_type": "code",
   "execution_count": null,
   "id": "1428398a-56e5-4bab-b390-9b1e349c16ad",
   "metadata": {},
   "outputs": [],
   "source": []
  },
  {
   "cell_type": "code",
   "execution_count": null,
   "id": "e0c3cc50-e9ce-46ff-97bd-7d62e025cc3b",
   "metadata": {},
   "outputs": [],
   "source": []
  },
  {
   "cell_type": "code",
   "execution_count": null,
   "id": "0c1a994f-87c2-4daf-800d-76b91d8d7e1e",
   "metadata": {
    "tags": []
   },
   "outputs": [],
   "source": [
    "# Resources:\n",
    "# https://langchain-ai.github.io/langgraph/tutorials/get-started/1-build-basic-chatbot/\n",
    "# https://www.youtube.com/watch?v=1w5cCXlh7JQ"
   ]
  },
  {
   "cell_type": "code",
   "execution_count": null,
   "id": "ce352d33-a632-4b18-bf17-2bb30796ffa9",
   "metadata": {},
   "outputs": [],
   "source": []
  },
  {
   "cell_type": "code",
   "execution_count": null,
   "id": "5c0915c7-0196-4e3d-a406-231460d8b167",
   "metadata": {},
   "outputs": [],
   "source": []
  }
 ],
 "metadata": {
  "kernelspec": {
   "display_name": "Python 3 (ipykernel)",
   "language": "python",
   "name": "python3"
  },
  "language_info": {
   "codemirror_mode": {
    "name": "ipython",
    "version": 3
   },
   "file_extension": ".py",
   "mimetype": "text/x-python",
   "name": "python",
   "nbconvert_exporter": "python",
   "pygments_lexer": "ipython3",
   "version": "3.10.14"
  }
 },
 "nbformat": 4,
 "nbformat_minor": 5
}
