{
 "cells": [
  {
   "cell_type": "code",
   "execution_count": null,
   "id": "ff4defb2-6cc7-46fb-9f44-aebb34b5c78a",
   "metadata": {
    "tags": []
   },
   "outputs": [],
   "source": [
    "# easier way to show things.\n",
    "# the first notebook was a bit confusing or hard to read from official LangGraph doc pages."
   ]
  },
  {
   "cell_type": "code",
   "execution_count": null,
   "id": "bddd124a-97fe-4013-9e54-aedba273aaa4",
   "metadata": {},
   "outputs": [],
   "source": []
  },
  {
   "cell_type": "code",
   "execution_count": null,
   "id": "eacab055-5397-4124-b277-2586d77001fd",
   "metadata": {},
   "outputs": [],
   "source": []
  },
  {
   "cell_type": "code",
   "execution_count": null,
   "id": "48424b6e-abca-404c-b483-c819a60acb8f",
   "metadata": {
    "tags": []
   },
   "outputs": [],
   "source": [
    "from dotenv import load_dotenv\n",
    "import os\n",
    "\n",
    "# 1st method: using .env file.\n",
    "load_dotenv()\n",
    "# Access them using os.getenv or os.environ\n",
    "api_key = os.getenv(\"GROQ_API_KEY\")\n",
    "\n",
    "# 2nd method: using hard code\n",
    "# api_key = \"<put the api key here>\"\n",
    "# if not os.environ.get(\"GROQ_API_KEY\"):\n",
    "#     os.environ[\"GROQ_API_KEY\"] = api_key #getpass.getpass(\"Enter API key for Groq: \")\n",
    "\n",
    "\n"
   ]
  },
  {
   "cell_type": "code",
   "execution_count": null,
   "id": "dd8a4a06-0aef-491b-85cf-7d9ce72603db",
   "metadata": {},
   "outputs": [],
   "source": [
    "from langchain_groq import ChatGroq\n",
    "\n",
    "llm = ChatGroq(model=\"llama3-8b-8192\")\n",
    "# llm2 = ChatGroq(model=\"llama3-8b-8192\")"
   ]
  },
  {
   "cell_type": "code",
   "execution_count": null,
   "id": "7a8d2475-5980-44a8-a652-5cdcd38b7a2b",
   "metadata": {
    "tags": []
   },
   "outputs": [],
   "source": [
    "from langgraph.graph.message import add_messages\n",
    "from langchain.chat_models import init_chat_model\n",
    "from langchain_core.messages import BaseMessage, HumanMessage, AIMessage\n",
    "from langgraph.graph import START, END,  MessageGraph\n"
   ]
  },
  {
   "cell_type": "code",
   "execution_count": null,
   "id": "56b14641-4688-400f-9a30-4b42b559c2a7",
   "metadata": {},
   "outputs": [],
   "source": []
  },
  {
   "cell_type": "code",
   "execution_count": null,
   "id": "4adecb9d-c519-4ede-9d5d-67ea02a890af",
   "metadata": {},
   "outputs": [],
   "source": []
  },
  {
   "cell_type": "code",
   "execution_count": null,
   "id": "985a77e1-50b0-4c1f-919c-1ae9f72fda84",
   "metadata": {
    "tags": []
   },
   "outputs": [],
   "source": [
    "graph = MessageGraph() "
   ]
  },
  {
   "cell_type": "code",
   "execution_count": null,
   "id": "7adf1725-e26a-4593-849c-4a6c1b93b2a5",
   "metadata": {
    "tags": []
   },
   "outputs": [],
   "source": [
    "# llm1.invoke([SystemMessage(content=\"You are a creative thinker. Come up with wild, imaginative ideas without worrying about realism.\"), \n",
    "#              HumanMessage(content=\"Explain quantum computing to a 12-year-old.\")])"
   ]
  },
  {
   "cell_type": "code",
   "execution_count": null,
   "id": "ae7c9638-c136-4780-a748-9f99bbb4f2a5",
   "metadata": {},
   "outputs": [],
   "source": []
  },
  {
   "cell_type": "code",
   "execution_count": null,
   "id": "1045f58c-9899-4955-b7e6-6b4891352d37",
   "metadata": {
    "tags": []
   },
   "outputs": [],
   "source": [
    "from langchain_core.prompts import ChatPromptTemplate, MessagesPlaceholder\n",
    "\n",
    "generation_prompt = ChatPromptTemplate.from_messages(\n",
    "    [\n",
    "        (\"system\", \"You are a Twitter writer.\"),\n",
    "        MessagesPlaceholder(variable_name=\"messages\"),\n",
    "    ]\n",
    ")\n",
    "\n",
    "reflect_prompt = ChatPromptTemplate.from_template(\n",
    "    \"\"\"You are reviewing the following tweet:\n",
    "\"{messages}\"\n",
    "\n",
    "If it's already good, return it as-is. Otherwise, revise it to improve clarity, tone, or engagement.\"\"\"\n",
    ")\n",
    "\n",
    "generation_chain = generation_prompt | llm\n",
    "reflect_chain = reflect_prompt | llm"
   ]
  },
  {
   "cell_type": "code",
   "execution_count": null,
   "id": "eb54201d-8b09-40fc-a663-763957212f16",
   "metadata": {
    "tags": []
   },
   "outputs": [],
   "source": [
    "from langchain_core.prompts import ChatPromptTemplate\n",
    "\n"
   ]
  },
  {
   "cell_type": "code",
   "execution_count": null,
   "id": "1f7e745e-fa51-4d47-b146-2aeb916c0ead",
   "metadata": {},
   "outputs": [],
   "source": []
  },
  {
   "cell_type": "code",
   "execution_count": null,
   "id": "3fb2c161-1a6b-4ea1-8025-21d88c9faf8b",
   "metadata": {
    "tags": []
   },
   "outputs": [],
   "source": [
    "def generate_node(msg):\n",
    "    print('\\n generate node:\\n')\n",
    "    return generation_chain.invoke({\n",
    "    \"messages\":msg\n",
    "    })\n",
    "\n",
    "def reflect_node(msg):\n",
    "    print('\\n reflect node:\\n')\n",
    "    return reflect_chain.invoke({\n",
    "    \"messages\":msg\n",
    "    })"
   ]
  },
  {
   "cell_type": "code",
   "execution_count": null,
   "id": "ab705fe4-7893-4211-9066-4b7d3b103fb9",
   "metadata": {},
   "outputs": [],
   "source": []
  },
  {
   "cell_type": "code",
   "execution_count": null,
   "id": "62ed4762-5eee-40d9-a002-95fc013fb986",
   "metadata": {
    "tags": []
   },
   "outputs": [],
   "source": [
    "graph.add_node(\"generate\", generate_node)\n",
    "graph.add_node(\"reflect\", reflect_node)"
   ]
  },
  {
   "cell_type": "code",
   "execution_count": null,
   "id": "75bf8802-ce13-443d-be63-121c451e5d14",
   "metadata": {},
   "outputs": [],
   "source": []
  },
  {
   "cell_type": "code",
   "execution_count": null,
   "id": "e301a10c-7544-422e-a0b0-785b6e8c6db0",
   "metadata": {
    "tags": []
   },
   "outputs": [],
   "source": [
    "def should_continue(msg):\n",
    "    # print('msg[generate node]=',msg[\"generate_node\"])\n",
    "    print('len(msg)=', len(msg))\n",
    "    if (len(msg)>3):\n",
    "        return \"to_end\"\n",
    "    return \"to_reflect\""
   ]
  },
  {
   "cell_type": "code",
   "execution_count": null,
   "id": "6e602b82-b6b4-4776-b5cb-c0588d6bca61",
   "metadata": {
    "tags": []
   },
   "outputs": [],
   "source": [
    "# graph.add_edge(START, \"generate\")\n",
    "graph.set_entry_point(\"generate\")\n",
    "\n",
    "graph.add_conditional_edges(\"generate\", \n",
    "                            should_continue,\n",
    "                            \n",
    "                          {    \n",
    "        \"to_reflect\": \"reflect\",  # Mapping function output to nodes\n",
    "        \"to_end\": END,\n",
    "    },     \n",
    "                           )\n",
    "graph.add_edge(\"reflect\", \"generate\")\n",
    "\n",
    "# graph.add_edge(\"generate\", \"reflect\")\n",
    "\n",
    "\n",
    "# graph.set_conditional_entry_point(\"generate\")\n",
    "# graph.add_edge(\"generate\", \"reflect\")"
   ]
  },
  {
   "cell_type": "code",
   "execution_count": null,
   "id": "6a3b3913-2ea5-4090-91e0-b764147521c8",
   "metadata": {
    "tags": []
   },
   "outputs": [],
   "source": []
  },
  {
   "cell_type": "code",
   "execution_count": null,
   "id": "f429e5a4-cac1-429d-a6fa-64926fe03f60",
   "metadata": {},
   "outputs": [],
   "source": []
  },
  {
   "cell_type": "code",
   "execution_count": null,
   "id": "1033dc2c-7680-4964-b566-14f6591a095b",
   "metadata": {
    "tags": []
   },
   "outputs": [],
   "source": [
    "app = graph.compile()"
   ]
  },
  {
   "cell_type": "code",
   "execution_count": null,
   "id": "cc06ec41-a7a8-4d72-97a7-ac260d77efab",
   "metadata": {},
   "outputs": [],
   "source": []
  },
  {
   "cell_type": "code",
   "execution_count": null,
   "id": "8159780e-fe52-4ef9-be2c-728bdbe2a3f0",
   "metadata": {},
   "outputs": [],
   "source": []
  },
  {
   "cell_type": "code",
   "execution_count": null,
   "id": "0a837502-396b-4ad4-88a0-93b2cf2e3a52",
   "metadata": {},
   "outputs": [],
   "source": []
  },
  {
   "cell_type": "code",
   "execution_count": null,
   "id": "9746ddf8-82fd-479d-8d8f-623f07acb7b7",
   "metadata": {
    "tags": []
   },
   "outputs": [],
   "source": [
    "from IPython.display import Image, display\n",
    "\n",
    "try:\n",
    "    display(Image(app.get_graph().draw_mermaid_png()))\n",
    "except Exception:\n",
    "    \n",
    "    # This requires some extra dependencies and is optional\n",
    "    pass"
   ]
  },
  {
   "cell_type": "code",
   "execution_count": null,
   "id": "064bfd49-9eb6-4217-916c-6b0f181821e8",
   "metadata": {
    "tags": []
   },
   "outputs": [],
   "source": []
  },
  {
   "cell_type": "code",
   "execution_count": null,
   "id": "1c7fc8b6-4f3f-4bcb-a343-51f2032fe6f8",
   "metadata": {
    "tags": []
   },
   "outputs": [],
   "source": []
  },
  {
   "cell_type": "code",
   "execution_count": null,
   "id": "f2e8a6f1-86da-4b43-bf36-355783c7a78c",
   "metadata": {},
   "outputs": [],
   "source": []
  },
  {
   "cell_type": "code",
   "execution_count": null,
   "id": "0810be9c-fb73-4028-b5ea-cf161a719593",
   "metadata": {},
   "outputs": [],
   "source": []
  },
  {
   "cell_type": "code",
   "execution_count": null,
   "id": "ec112473-72a8-45e0-9616-9b9519ff2079",
   "metadata": {},
   "outputs": [],
   "source": [
    "print(app.get_graph().print_ascii())"
   ]
  },
  {
   "cell_type": "code",
   "execution_count": null,
   "id": "35e7e093-2837-4646-8b3f-6d5838b0e9ec",
   "metadata": {},
   "outputs": [],
   "source": [
    "# !pip install grandalf"
   ]
  },
  {
   "cell_type": "code",
   "execution_count": null,
   "id": "0680601f-fc3f-4400-bd0d-4f36fb5279d5",
   "metadata": {},
   "outputs": [],
   "source": []
  },
  {
   "cell_type": "code",
   "execution_count": null,
   "id": "93577ba5-27c9-40f4-984f-8577b779cde9",
   "metadata": {
    "tags": []
   },
   "outputs": [],
   "source": [
    "content = app.invoke(HumanMessage(content=\"make a tweet on Sunny days\"))"
   ]
  },
  {
   "cell_type": "code",
   "execution_count": null,
   "id": "0cb86f9d-4ab0-41d3-95f8-4d567ed7f1af",
   "metadata": {
    "tags": []
   },
   "outputs": [],
   "source": [
    "content"
   ]
  },
  {
   "cell_type": "code",
   "execution_count": null,
   "id": "b9515547-5462-4a6d-9b67-082230d2749c",
   "metadata": {},
   "outputs": [],
   "source": [
    "graph.edges"
   ]
  },
  {
   "cell_type": "code",
   "execution_count": null,
   "id": "a9e685f4-92f2-4995-b339-6e116b87c3ab",
   "metadata": {
    "tags": []
   },
   "outputs": [],
   "source": []
  },
  {
   "cell_type": "code",
   "execution_count": null,
   "id": "360463f2-c44b-450d-8dfa-f8dc3f253771",
   "metadata": {
    "tags": []
   },
   "outputs": [],
   "source": [
    "print(\"\\n[Final Messages]\")\n",
    "for msg in content:\n",
    "    print(f\"- {type(msg).__name__}: {msg.content}\")"
   ]
  },
  {
   "cell_type": "code",
   "execution_count": null,
   "id": "9e3b7380-c688-43be-80ef-167ab71ee411",
   "metadata": {},
   "outputs": [],
   "source": []
  }
 ],
 "metadata": {
  "kernelspec": {
   "display_name": "Python 3 (ipykernel)",
   "language": "python",
   "name": "python3"
  },
  "language_info": {
   "codemirror_mode": {
    "name": "ipython",
    "version": 3
   },
   "file_extension": ".py",
   "mimetype": "text/x-python",
   "name": "python",
   "nbconvert_exporter": "python",
   "pygments_lexer": "ipython3",
   "version": "3.10.14"
  }
 },
 "nbformat": 4,
 "nbformat_minor": 5
}
