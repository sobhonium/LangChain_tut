{
 "cells": [
  {
   "cell_type": "code",
   "execution_count": null,
   "id": "0a24c0e6-61de-49d2-b4c2-a54794380317",
   "metadata": {},
   "outputs": [],
   "source": [
    "# May 2025\n",
    "# How important it is to say \"Think step by step\" in a prompt."
   ]
  },
  {
   "cell_type": "code",
   "execution_count": null,
   "id": "e5a9c04a-dfa4-4c58-856c-d144b25cf84d",
   "metadata": {},
   "outputs": [],
   "source": []
  },
  {
   "cell_type": "code",
   "execution_count": null,
   "id": "e6e782e1-5fcc-491b-9bf5-876b77c12527",
   "metadata": {
    "tags": []
   },
   "outputs": [],
   "source": [
    "from dotenv import load_dotenv\n",
    "import os\n",
    "\n",
    "# 1st method: using .env file.\n",
    "load_dotenv()\n",
    "# Access them using os.getenv or os.environ\n",
    "api_key = os.getenv(\"GROQ_API_KEY\")\n",
    "\n",
    "# 2nd method: using hard code\n",
    "# api_key = \"<put the api key here>\"\n",
    "# if not os.environ.get(\"GROQ_API_KEY\"):\n",
    "#     os.environ[\"GROQ_API_KEY\"] = api_key #getpass.getpass(\"Enter API key for Groq: \")\n",
    "\n",
    "\n",
    "\n",
    "\n",
    "from langchain_groq import ChatGroq\n",
    "\n",
    "llm = ChatGroq(model=\"llama3-8b-8192\")"
   ]
  },
  {
   "cell_type": "code",
   "execution_count": null,
   "id": "9a710cd8-1100-4ca8-8ab0-b6ca8ca22c04",
   "metadata": {
    "tags": []
   },
   "outputs": [],
   "source": [
    "# \"Think step by step\""
   ]
  },
  {
   "cell_type": "code",
   "execution_count": null,
   "id": "53de0068-16ca-436f-a364-a5cc8ae60705",
   "metadata": {},
   "outputs": [],
   "source": []
  },
  {
   "cell_type": "code",
   "execution_count": null,
   "id": "5e546817-312f-4456-93ad-d7956fdcfda8",
   "metadata": {
    "tags": []
   },
   "outputs": [],
   "source": [
    "from langchain.chat_models import ChatOpenAI\n",
    "from langchain.prompts import PromptTemplate\n",
    "from langchain.chains import LLMChain\n",
    "\n",
    "# Define a prompt template\n",
    "prompt = PromptTemplate(\n",
    "    input_variables=[\"question\"],\n",
    "    template=\"Think step by step: {question}\"\n",
    ")\n",
    "\n",
    "# # Load the LLM (e.g., OpenAI)\n",
    "# llm = ChatOpenAI(temperature=0.7, model=\"gpt-3.5-turbo\", max_tokens=150)\n",
    "\n",
    "# Create an LLM chain\n",
    "chain = LLMChain(llm=llm, prompt=prompt)\n",
    "\n",
    "# Run the chain with a question\n",
    "question = \"Describe the process of training a neural network with backpropagation.\"\n",
    "response = chain.run({\"question\": question})\n",
    "\n",
    "# Output the result\n",
    "print(response)\n"
   ]
  },
  {
   "cell_type": "code",
   "execution_count": null,
   "id": "0a106060-b18b-47c5-8905-16701b77c065",
   "metadata": {},
   "outputs": [],
   "source": []
  },
  {
   "cell_type": "code",
   "execution_count": null,
   "id": "99356cdd-69d0-469f-b142-365468c0929e",
   "metadata": {},
   "outputs": [],
   "source": []
  },
  {
   "cell_type": "code",
   "execution_count": null,
   "id": "d198f45b-a596-4387-9f37-05465b5f6fd3",
   "metadata": {},
   "outputs": [],
   "source": []
  },
  {
   "cell_type": "code",
   "execution_count": null,
   "id": "d6411c7b-9528-45f8-8ae9-cc3eea69d8e0",
   "metadata": {
    "tags": []
   },
   "outputs": [],
   "source": [
    "from langchain import LangChain\n",
    "\n",
    "# Initialize the LangChain model with advanced settings\n",
    "model = LangChain(config={\n",
    "    'use_chain_of_thought': True,\n",
    "    'max_tokens': 150,\n",
    "    'temperature': 0.7\n",
    "})\n",
    "\n",
    "# Input text for a complex query\n",
    "input_text = \"Describe the process of training a neural network with backpropagation.\"\n",
    "\n",
    "# Generate response with Chain of Thought\n",
    "response = model.generate(input_text)\n",
    "\n",
    "# Output the response\n",
    "print(response)"
   ]
  },
  {
   "cell_type": "code",
   "execution_count": null,
   "id": "f589a366-3538-4c8a-ada3-013beaac2a10",
   "metadata": {},
   "outputs": [],
   "source": []
  }
 ],
 "metadata": {
  "kernelspec": {
   "display_name": "Python 3 (ipykernel)",
   "language": "python",
   "name": "python3"
  },
  "language_info": {
   "codemirror_mode": {
    "name": "ipython",
    "version": 3
   },
   "file_extension": ".py",
   "mimetype": "text/x-python",
   "name": "python",
   "nbconvert_exporter": "python",
   "pygments_lexer": "ipython3",
   "version": "3.10.14"
  }
 },
 "nbformat": 4,
 "nbformat_minor": 5
}
